{
 "cells": [
  {
   "cell_type": "code",
   "execution_count": 1,
   "metadata": {},
   "outputs": [],
   "source": [
    "import sqlQuer\n",
    "\n",
    "database = sqlQuer.Database()\n",
    "\n",
    "\n",
    "battingdic = {\n",
    "    'runs_to_Lspin' : 1203,\n",
    "    'runs_to_Rspin' : 1353,\n",
    "    'runs_to_Rpace' : 2312,\n",
    "    'runs_to_Lpace' : 1344,\n",
    "    'out_to_Lspin'  : 12,\n",
    "    'out_to_Rspin'  : 24,\n",
    "    'out_to_Rpace'  : 6,\n",
    "    'out_to_Lpace'  : 15,\n",
    "    'balls_Lspin'   : 902,\n",
    "    'balls_Rspin'   : 945,\n",
    "    'balls_Rpace'   : 1564,\n",
    "    'balls_Lpace'   : 985,\n",
    "    'pos' : 'top',\n",
    "    'inng' : 60,\n",
    "    'best' : 123\n",
    "}\n",
    "\n",
    "bowlingdic = {\n",
    "    'runs_to_right'   : 45,\n",
    "    'runs_to_left'    : 90,\n",
    "    'wickets_to_right': 12,\n",
    "    'wickets_to_left' : 2,\n",
    "    'balls_to_right'  : 40,\n",
    "    'balls_to_left'   : 53,\n",
    "    'inngs'           : 26,\n",
    "    'best'            : '2/12',\n",
    "    'pos'             : 'second_change'\n",
    "}\n",
    "\n",
    "#database.addPlayer('virat Kholi',10,'batsman','RCB', 'right-arm pace','right',battingdic,bowlingdic)"
   ]
  },
  {
   "cell_type": "code",
   "execution_count": 2,
   "metadata": {},
   "outputs": [],
   "source": [
    "team1 = [i for i in range(12)]\n",
    "team2 = [i for i in range(12,23)]\n"
   ]
  },
  {
   "cell_type": "code",
   "execution_count": 3,
   "metadata": {},
   "outputs": [],
   "source": [
    "def batsmenStrengthCount(batter_id,team):\n",
    "\n",
    "    batterStrength = database.findBattingStrength(batter_id)\n",
    "    strCount = 0\n",
    "\n",
    "    for player in team:\n",
    "\n",
    "        role = database.playerRole(player)\n",
    "\n",
    "        if role == \"bowler\" or role == \"all-rounder\":\n",
    "            Btype = database.fetchBowlingType(player)  \n",
    "            \n",
    "            if batterStrength == Btype:\n",
    "                strCount += 1\n",
    "\n",
    "def bowlerStrengthCount(bowler_id,team):\n",
    "    \n",
    "    bowlerStrength = database.findBowerStrenght(bowler_id)\n",
    "    strCount = 0\n",
    "    \n",
    "    for player in team:\n",
    "\n",
    "        role = database.playerRole(player)\n",
    "\n",
    "            "
   ]
  },
  {
   "cell_type": "code",
   "execution_count": 4,
   "metadata": {},
   "outputs": [],
   "source": [
    "a = database.testQur(1)"
   ]
  }
 ],
 "metadata": {
  "kernelspec": {
   "display_name": "Python 3",
   "language": "python",
   "name": "python3"
  },
  "language_info": {
   "codemirror_mode": {
    "name": "ipython",
    "version": 3
   },
   "file_extension": ".py",
   "mimetype": "text/x-python",
   "name": "python",
   "nbconvert_exporter": "python",
   "pygments_lexer": "ipython3",
   "version": "3.11.5"
  }
 },
 "nbformat": 4,
 "nbformat_minor": 2
}
